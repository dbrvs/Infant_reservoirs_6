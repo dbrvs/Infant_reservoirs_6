{
 "cells": [
  {
   "cell_type": "code",
   "execution_count": 76,
   "metadata": {
    "collapsed": true
   },
   "outputs": [],
   "source": [
    "#!/usr/bin/python\n",
    "%matplotlib inline\n",
    "\n",
    "import numpy as np\n",
    "import matplotlib.pyplot as plt\n",
    "import pandas as pd\n",
    "import scipy.stats as st\n",
    "import numpy as np\n",
    "import matplotlib.cm as cm\n",
    "\n",
    "#for mem\n",
    "import statsmodels.api as sm\n",
    "import statsmodels.formula.api as smf\n"
   ]
  },
  {
   "cell_type": "code",
   "execution_count": 77,
   "metadata": {
    "collapsed": false
   },
   "outputs": [],
   "source": [
    "#read in the original data\n",
    "df=pd.read_excel('OPHRevisedFig2_HIVDNA_20210921_ADDvloads.xlsx')#,index=False)\n"
   ]
  },
  {
   "cell_type": "code",
   "execution_count": null,
   "metadata": {
    "collapsed": true
   },
   "outputs": [],
   "source": [
    "#make the updated dataframe\n",
    "#note, no need to do this if you're just reading in csv below\n",
    "\n",
    "cens_l=[]\n",
    "corr_l=[]\n",
    "for i in range(len(df)):\n",
    "    \n",
    "    tdf=df.iloc[i]\n",
    "    if tdf['intact_hivdna_per1E6_tcells']==0:\n",
    "        corr_l.append(1/tdf['total_tcells_interrogated']*1e6/2)\n",
    "        cens_l.append(1)\n",
    "    else:\n",
    "        cens_l.append(0)\n",
    "        corr_l.append(tdf['intact_hivdna_per1E6_tcells'])\n",
    "        \n",
    "df['censoring']=cens_l\n",
    "df['intact_corrected']=corr_l\n",
    "\n",
    "df2=df[['short_id', 'time_haart_days','total_hivdna_per1E6_tcells','intact_corrected','vload', 'censoring']]\n",
    "df2.head()\n",
    "df3=df2[df2['vload']<100] #simply restrict to current\n",
    "\n",
    "#make columns in log\n",
    "df3['ltot']=np.log(df3['total_hivdna_per1E6_tcells'])\n",
    "df3['lint']=np.log(df3['intact_corrected'])"
   ]
  },
  {
   "cell_type": "code",
   "execution_count": 104,
   "metadata": {
    "collapsed": false
   },
   "outputs": [],
   "source": [
    "#previously exported this data and did a little adjustement externally in excel\n",
    "#df3.to_csv('modeled_data.csv')\n",
    "\n",
    "df3 = pd.read_csv('modeled_data.csv') #now just read it in\n",
    "df3 = df3[df3['t_censor']==0] #this restricts to the columns where VL is totally suppressed (ie for more than 6mo)\n"
   ]
  },
  {
   "cell_type": "code",
   "execution_count": 106,
   "metadata": {
    "collapsed": false
   },
   "outputs": [
    {
     "name": "stdout",
     "output_type": "stream",
     "text": [
      "          Mixed Linear Model Regression Results\n",
      "=========================================================\n",
      "Model:             MixedLM  Dependent Variable:  ltot    \n",
      "No. Observations:  14       Method:              REML    \n",
      "No. Groups:        6        Scale:               0.2421  \n",
      "Min. group size:   1        Likelihood:          -20.4383\n",
      "Max. group size:   4        Converged:           Yes     \n",
      "Mean group size:   2.3                                   \n",
      "---------------------------------------------------------\n",
      "                Coef. Std.Err.   z    P>|z| [0.025 0.975]\n",
      "---------------------------------------------------------\n",
      "Intercept       5.430    0.483 11.245 0.000  4.484  6.377\n",
      "time_haart_days 0.000    0.000  1.159 0.246 -0.000  0.001\n",
      "Group Var       0.240    0.532                           \n",
      "=========================================================\n",
      "\n"
     ]
    },
    {
     "data": {
      "image/png": "[encoded data removed]",
      "text/plain": [
       "<matplotlib.figure.Figure at 0x7f8444cb1198>"
      ]
     },
     "metadata": {},
     "output_type": "display_data"
    }
   ],
   "source": [
    "\n",
    "#run MEM\n",
    "md = smf.mixedlm('ltot ~ time_haart_days', df3, groups=df3['short_id'])\n",
    "mdf = md.fit()\n",
    "mem_results=[mdf.params[1],mdf.conf_int().iloc[1,0],mdf.conf_int().iloc[1,1],\n",
    "             mdf.params[0],mdf.conf_int().iloc[0,0],mdf.conf_int().iloc[0,1]]\n",
    "\n",
    "#plot total reservoir data relative to initiation of ART\n",
    "tot_df=df3\n",
    "dd='total_hivdna_per1E6_tcells'\n",
    "plt.figure(figsize=(4,3))\n",
    "simt=np.linspace(0,8,1000)\n",
    "for ip,p in enumerate(tot_df['short_id'].unique()):\n",
    "    tdf=tot_df[(tot_df['short_id']==p)]\n",
    "    plt.plot(tdf['time_haart_days']/365,tdf[dd],color='blue',ls='--',alpha=0.5)#cz_list[pind])\n",
    "    plt.scatter(tdf['time_haart_days']/365,tdf[dd],marker='o',alpha=0.5,color='blue',edgecolor='blue')#cz_list[pind])\n",
    "plt.plot(simt,np.exp(mem_results[3]+mem_results[0]*simt*365),color='blue',lw=3)\n",
    "plt.fill_between(simt,np.exp(mem_results[4]+mem_results[1]*simt*365),np.exp(mem_results[5]+mem_results[2]*simt*365),color='blue',alpha=0.1)\n",
    "plt.ylabel('Total HIV DNA pmCD4+ T cells')\n",
    "plt.xticks(range(0,25,5))\n",
    "plt.xlabel('Time (years after ART)')\n",
    "plt.semilogy()\n",
    "plt.ylim([0.5,3e3])\n",
    "plt.xticks(range(0,23,2))\n",
    "plt.xlim([-0.5,9])\n",
    "plt.title(np.round(-np.log(2)/mem_results[:3]/365*12))\n",
    "plt.tight_layout()    \n",
    "plt.savefig('longitudinal_total.pdf',dpi=600)\n"
   ]
  },
  {
   "cell_type": "code",
   "execution_count": 108,
   "metadata": {
    "collapsed": false
   },
   "outputs": [
    {
     "name": "stdout",
     "output_type": "stream",
     "text": [
      "          Mixed Linear Model Regression Results\n",
      "==========================================================\n",
      "Model:              MixedLM  Dependent Variable:  lint    \n",
      "No. Observations:   14       Method:              REML    \n",
      "No. Groups:         6        Scale:               0.8860  \n",
      "Min. group size:    1        Likelihood:          -26.8333\n",
      "Max. group size:    4        Converged:           Yes     \n",
      "Mean group size:    2.3                                   \n",
      "----------------------------------------------------------\n",
      "                Coef.  Std.Err.   z    P>|z| [0.025 0.975]\n",
      "----------------------------------------------------------\n",
      "Intercept        2.469    0.853  2.896 0.004  0.798  4.140\n",
      "time_haart_days -0.000    0.000 -0.384 0.701 -0.001  0.001\n",
      "Group Var        0.317    0.468                           \n",
      "==========================================================\n",
      "\n"
     ]
    },
    {
     "data": {
      "image/png": "[encoded data removed]",
      "text/plain": [
       "<matplotlib.figure.Figure at 0x7f84451759b0>"
      ]
     },
     "metadata": {},
     "output_type": "display_data"
    }
   ],
   "source": [
    "\n",
    "#run MEM\n",
    "md = smf.mixedlm('lint ~ time_haart_days', df3, groups=df3['short_id'])\n",
    "mdf = md.fit()\n",
    "mem_results=[mdf.params[1],mdf.conf_int().iloc[1,0],mdf.conf_int().iloc[1,1],\n",
    "             mdf.params[0],mdf.conf_int().iloc[0,0],mdf.conf_int().iloc[0,1]]\n",
    "\n",
    "#plot total reservoir data relative to initiation of ART\n",
    "tot_df=df3\n",
    "dd='intact_corrected'\n",
    "plt.figure(figsize=(4,3))\n",
    "for ip,p in enumerate(tot_df['short_id'].unique()):\n",
    "    tdf=tot_df[(tot_df['short_id']==p)]\n",
    "    plt.plot(tdf['time_haart_days']/365,tdf[dd],color='red',ls='--',alpha=0.5)#cz_list[pind])\n",
    "    plt.scatter(tdf['time_haart_days'][tdf['censoring']==0]/365,tdf[dd][tdf['censoring']==0],marker='o',alpha=0.5,color='red',edgecolor='red')#cz_list[pind])\n",
    "    plt.scatter(tdf['time_haart_days'][tdf['censoring']==1]/365,tdf[dd][tdf['censoring']==1],marker='o',alpha=0.5,color='',edgecolor='red')#cz_list[pind])\n",
    "plt.plot(simt,np.exp(mem_results[3]+mem_results[0]*simt*365),color='red',lw=3)\n",
    "plt.fill_between(simt,np.exp(mem_results[4]+mem_results[1]*simt*365),np.exp(mem_results[5]+mem_results[2]*simt*365),color='red',alpha=0.1)\n",
    "plt.ylabel('Intact HIV DNA pmCD4+ T cells')\n",
    "plt.xticks(range(0,25,5))\n",
    "plt.xlabel('Time (years after ART)')\n",
    "plt.semilogy()\n",
    "plt.ylim([0.5,3e3])\n",
    "plt.xticks(range(0,23,2))\n",
    "plt.xlim([-0.5,9])\n",
    "plt.title(np.round(-np.log(2)/mem_results[:3]/365*12))\n",
    "plt.tight_layout()    \n",
    "plt.savefig('longitudinal_intact.pdf',dpi=600)\n",
    "\n"
   ]
  }
 ],
 "metadata": {
  "kernelspec": {
   "display_name": "Python 3",
   "language": "python",
   "name": "python3"
  },
  "language_info": {
   "codemirror_mode": {
    "name": "ipython",
    "version": 3
   },
   "file_extension": ".py",
   "mimetype": "text/x-python",
   "name": "python",
   "nbconvert_exporter": "python",
   "pygments_lexer": "ipython3",
   "version": "3.6.0"
  },
  "nteract": {
   "version": "0.22.4"
  }
 },
 "nbformat": 4,
 "nbformat_minor": 2
}
